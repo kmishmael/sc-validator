{
 "cells": [
  {
   "cell_type": "code",
   "execution_count": 1,
   "metadata": {},
   "outputs": [],
   "source": [
    "import requests\n",
    "from bs4 import BeautifulSoup\n",
    "import json\n",
    "from urllib.parse import urlparse\n"
   ]
  },
  {
   "cell_type": "code",
   "execution_count": 8,
   "metadata": {},
   "outputs": [
    {
     "data": {
      "text/plain": [
       "200"
      ]
     },
     "execution_count": 8,
     "metadata": {},
     "output_type": "execute_result"
    }
   ],
   "source": [
    "url = 'https://siliconvoyage.com/blog/a-complete-guide-to-intel-processors-naming-conventions'\n",
    "html = requests.get(url)\n",
    "url_host = urlparse(url).netloc\n",
    "html.status_code"
   ]
  },
  {
   "cell_type": "code",
   "execution_count": 3,
   "metadata": {},
   "outputs": [],
   "source": [
    "soup = BeautifulSoup(html.content, 'html.parser')"
   ]
  },
  {
   "cell_type": "code",
   "execution_count": 4,
   "metadata": {},
   "outputs": [
    {
     "data": {
      "text/plain": [
       "'A Complete Guide To Intel Processors Naming Convention'"
      ]
     },
     "execution_count": 4,
     "metadata": {},
     "output_type": "execute_result"
    }
   ],
   "source": [
    "title = soup.find(\"meta\", {\"property\": \"og:title\"})\n",
    "title['content']"
   ]
  },
  {
   "cell_type": "code",
   "execution_count": 5,
   "metadata": {},
   "outputs": [
    {
     "data": {
      "text/plain": [
       "22"
      ]
     },
     "execution_count": 5,
     "metadata": {},
     "output_type": "execute_result"
    }
   ],
   "source": [
    "c = soup.findAll('meta')\n",
    "len(c)"
   ]
  },
  {
   "cell_type": "code",
   "execution_count": 6,
   "metadata": {},
   "outputs": [],
   "source": [
    "title = soup.find(\"meta\", {\"name\": \"title\"})\n",
    "title = title[\"content\"] if title else None\n",
    "\n",
    "description = soup.find(\"meta\", {\"name\": \"description\"})\n",
    "description = description[\"content\"] if description else None\n",
    "\n",
    "twitter_card = soup.find(\"meta\", {\"name\": \"twitter:card\"})\n",
    "twitter_card = twitter_card[\"content\"] if twitter_card else None\n",
    "\n",
    "twitter_site = soup.find(\"meta\", {\"name\": \"twitter:site\"})\n",
    "twitter_site = twitter_site[\"content\"] if twitter_site else None\n",
    "\n",
    "twitter_title = soup.find(\"meta\", {\"name\": \"twitter:title\"})\n",
    "twitter_title = twitter_title[\"content\"] if twitter_title else None\n",
    "\n",
    "twitter_description = soup.find(\"meta\", {\"name\": \"twitter:description\"})\n",
    "twitter_description = twitter_description[\"content\"] if twitter_description else None\n",
    "\n",
    "twitter_image = soup.find(\"meta\", {\"name\": \"twitter:image\"})\n",
    "twitter_image = twitter_image[\"content\"] if twitter_image else None\n",
    "\n",
    "graph_title = soup.find(\"meta\", {\"property\": \"og:title\"})\n",
    "graph_title = graph_title[\"content\"] if graph_title else None\n",
    "\n",
    "graph_type = soup.find(\"meta\", {\"property\": \"og:type\"})\n",
    "graph_type = graph_type[\"content\"] if graph_type else None\n",
    "\n",
    "graph_url = soup.find(\"meta\", {\"property\": \"og:url\"})\n",
    "graph_url = graph_url[\"content\"] if graph_url else None\n",
    "\n",
    "graph_image = soup.find(\"meta\", {\"property\": \"og:image\"})\n",
    "graph_image = graph_image[\"content\"] if graph_image else None\n",
    "\n",
    "graph_description = soup.find(\"meta\", {\"property\": \"og:description\"})\n",
    "graph_description = graph_description[\"content\"] if graph_description else None\n"
   ]
  },
  {
   "cell_type": "code",
   "execution_count": 7,
   "metadata": {},
   "outputs": [
    {
     "data": {
      "text/plain": [
       "('{\"title\": \"A Complete Guide To Intel Processors Naming Convention\", \"description\": \"It has been producing some of the leading CPUs in the market. Here is intel CPU Branding letter and numbers guide.\", \"twitter_card\": \"summary\", \"twitter_site\": \"@siliconvoyage\", \"twitter_title\": \"A Complete Guide To Intel Processors Naming Convention\", \"twitter_description\": \"It has been producing some of the leading CPUs in the market. Here is intel CPU Branding letter and numbers guide.\", \"twitter_image\": \"https://siliconvoyage.com/blog/a-complete-guide-to-intel-processors-naming-conventions/img/a-complete-guide-featured.webp\", \"graph_title\": \"A Complete Guide To Intel Processors Naming Convention\", \"graph_type\": \"article\", \"graph_url\": \"https://siliconvoyage.com/blog/a-complete-guide-to-intel-processors-naming-conventions/\", \"graph_image\": \"https://siliconvoyage.com/blog/a-complete-guide-to-intel-processors-naming-conventions/img/a-complete-guide-featured.webp\", \"graph_description\": \"It has been producing some of the leading CPUs in the market. Here is intel CPU Branding letter and numbers guide.\"}',\n",
       " 200,\n",
       " {'Content-Type': 'application/json'})"
      ]
     },
     "execution_count": 7,
     "metadata": {},
     "output_type": "execute_result"
    }
   ],
   "source": [
    "data = {\n",
    "        'title':  title,\n",
    "        'description': description,\n",
    "        'twitter_card': twitter_card,\n",
    "        'twitter_site': twitter_site,\n",
    "        'twitter_title': twitter_title,\n",
    "        'twitter_description': twitter_description,\n",
    "        'twitter_image': twitter_image,\n",
    "        'graph_title': graph_title,  \n",
    "        'graph_type': graph_type,\n",
    "        'graph_url': graph_url,  \n",
    "        'graph_image': graph_image,   \n",
    "        'graph_description': graph_description,   \n",
    "    }\n",
    "#data\n",
    "json.dumps(data), 200, {'Content-Type': 'application/json'}\n"
   ]
  }
 ],
 "metadata": {
  "kernelspec": {
   "display_name": "Python 3",
   "language": "python",
   "name": "python3"
  },
  "language_info": {
   "codemirror_mode": {
    "name": "ipython",
    "version": 3
   },
   "file_extension": ".py",
   "mimetype": "text/x-python",
   "name": "python",
   "nbconvert_exporter": "python",
   "pygments_lexer": "ipython3",
   "version": "3.10.0"
  },
  "orig_nbformat": 4,
  "vscode": {
   "interpreter": {
    "hash": "f2ccb58c476f33ba3e3aee7ac07234ef6b8217ef24ad64d2a7d4fed1a57c1cd2"
   }
  }
 },
 "nbformat": 4,
 "nbformat_minor": 2
}
